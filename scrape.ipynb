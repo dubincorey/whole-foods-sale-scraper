{
 "cells": [
  {
   "cell_type": "code",
   "execution_count": 7,
   "metadata": {},
   "outputs": [
    {
     "data": {
      "text/plain": [
       "True"
      ]
     },
     "execution_count": 7,
     "metadata": {},
     "output_type": "execute_result"
    }
   ],
   "source": [
    "from dotenv import load_dotenv\n",
    "from selenium import webdriver\n",
    "from selenium.webdriver.common.by import By\n",
    "from selenium.webdriver.common.keys import Keys\n",
    "from selenium.common.exceptions import NoSuchElementException\n",
    "load_dotenv()"
   ]
  },
  {
   "cell_type": "code",
   "execution_count": 6,
   "metadata": {},
   "outputs": [
    {
     "name": "stderr",
     "output_type": "stream",
     "text": [
      "C:\\Users\\Corey\\AppData\\Local\\Temp\\ipykernel_14128\\516899527.py:6: DeprecationWarning: find_element_by_* commands are deprecated. Please use find_element() instead\n",
      "  store = driver.find_element_by_id(\"pie-store-finder-modal-search-field\")\n",
      "C:\\Users\\Corey\\AppData\\Local\\Temp\\ipykernel_14128\\516899527.py:10: DeprecationWarning: find_element_by_css_selector is deprecated. Please use find_element(by=By.CSS_SELECTOR, value=css_selector) instead\n",
      "  closest = driver.find_element_by_css_selector('li.wfm-search-bar--list_item:nth-child(1)')\n"
     ]
    },
    {
     "ename": "NoSuchElementException",
     "evalue": "Message: Unable to locate element: li.wfm-search-bar--list_item:nth-child(1)\nStacktrace:\nWebDriverError@chrome://remote/content/shared/webdriver/Errors.jsm:183:5\nNoSuchElementError@chrome://remote/content/shared/webdriver/Errors.jsm:395:5\nelement.find/</<@chrome://remote/content/marionette/element.js:300:16\n",
     "output_type": "error",
     "traceback": [
      "\u001b[1;31m---------------------------------------------------------------------------\u001b[0m",
      "\u001b[1;31mNoSuchElementException\u001b[0m                    Traceback (most recent call last)",
      "\u001b[1;32mc:\\Users\\Corey\\Desktop\\whole-foods-sale-scraper\\scrape.ipynb Cell 2'\u001b[0m in \u001b[0;36m<cell line: 10>\u001b[1;34m()\u001b[0m\n\u001b[0;32m      <a href='vscode-notebook-cell:/c%3A/Users/Corey/Desktop/whole-foods-sale-scraper/scrape.ipynb#ch0000001?line=7'>8</a>\u001b[0m store\u001b[39m.\u001b[39msend_keys(zip_code)\n\u001b[0;32m      <a href='vscode-notebook-cell:/c%3A/Users/Corey/Desktop/whole-foods-sale-scraper/scrape.ipynb#ch0000001?line=8'>9</a>\u001b[0m store\u001b[39m.\u001b[39msend_keys(Keys\u001b[39m.\u001b[39mRETURN)\n\u001b[1;32m---> <a href='vscode-notebook-cell:/c%3A/Users/Corey/Desktop/whole-foods-sale-scraper/scrape.ipynb#ch0000001?line=9'>10</a>\u001b[0m closest \u001b[39m=\u001b[39m driver\u001b[39m.\u001b[39;49mfind_element_by_css_selector(\u001b[39m'\u001b[39;49m\u001b[39mli.wfm-search-bar--list_item:nth-child(1)\u001b[39;49m\u001b[39m'\u001b[39;49m)\n\u001b[0;32m     <a href='vscode-notebook-cell:/c%3A/Users/Corey/Desktop/whole-foods-sale-scraper/scrape.ipynb#ch0000001?line=10'>11</a>\u001b[0m closest\u001b[39m.\u001b[39msend_keys(Keys\u001b[39m.\u001b[39mRETURN)\n\u001b[0;32m     <a href='vscode-notebook-cell:/c%3A/Users/Corey/Desktop/whole-foods-sale-scraper/scrape.ipynb#ch0000001?line=11'>12</a>\u001b[0m WebDriverWait(driver, \u001b[39m10\u001b[39m)\n",
      "File \u001b[1;32mc:\\Users\\Corey\\Desktop\\whole-foods-sale-scraper\\env\\lib\\site-packages\\selenium\\webdriver\\remote\\webdriver.py:809\u001b[0m, in \u001b[0;36mWebDriver.find_element_by_css_selector\u001b[1;34m(self, css_selector)\u001b[0m\n\u001b[0;32m    <a href='file:///c%3A/Users/Corey/Desktop/whole-foods-sale-scraper/env/lib/site-packages/selenium/webdriver/remote/webdriver.py?line=786'>787</a>\u001b[0m \u001b[39m\"\"\"\u001b[39;00m\n\u001b[0;32m    <a href='file:///c%3A/Users/Corey/Desktop/whole-foods-sale-scraper/env/lib/site-packages/selenium/webdriver/remote/webdriver.py?line=787'>788</a>\u001b[0m \u001b[39mFinds an element by css selector.\u001b[39;00m\n\u001b[0;32m    <a href='file:///c%3A/Users/Corey/Desktop/whole-foods-sale-scraper/env/lib/site-packages/selenium/webdriver/remote/webdriver.py?line=788'>789</a>\u001b[0m \n\u001b[1;32m   (...)\u001b[0m\n\u001b[0;32m    <a href='file:///c%3A/Users/Corey/Desktop/whole-foods-sale-scraper/env/lib/site-packages/selenium/webdriver/remote/webdriver.py?line=801'>802</a>\u001b[0m \u001b[39m        element = driver.find_element_by_css_selector('#foo')\u001b[39;00m\n\u001b[0;32m    <a href='file:///c%3A/Users/Corey/Desktop/whole-foods-sale-scraper/env/lib/site-packages/selenium/webdriver/remote/webdriver.py?line=802'>803</a>\u001b[0m \u001b[39m\"\"\"\u001b[39;00m\n\u001b[0;32m    <a href='file:///c%3A/Users/Corey/Desktop/whole-foods-sale-scraper/env/lib/site-packages/selenium/webdriver/remote/webdriver.py?line=803'>804</a>\u001b[0m warnings\u001b[39m.\u001b[39mwarn(\n\u001b[0;32m    <a href='file:///c%3A/Users/Corey/Desktop/whole-foods-sale-scraper/env/lib/site-packages/selenium/webdriver/remote/webdriver.py?line=804'>805</a>\u001b[0m     \u001b[39m\"\u001b[39m\u001b[39mfind_element_by_css_selector is deprecated. Please use find_element(by=By.CSS_SELECTOR, value=css_selector) instead\u001b[39m\u001b[39m\"\u001b[39m,\n\u001b[0;32m    <a href='file:///c%3A/Users/Corey/Desktop/whole-foods-sale-scraper/env/lib/site-packages/selenium/webdriver/remote/webdriver.py?line=805'>806</a>\u001b[0m     \u001b[39mDeprecationWarning\u001b[39;00m,\n\u001b[0;32m    <a href='file:///c%3A/Users/Corey/Desktop/whole-foods-sale-scraper/env/lib/site-packages/selenium/webdriver/remote/webdriver.py?line=806'>807</a>\u001b[0m     stacklevel\u001b[39m=\u001b[39m\u001b[39m2\u001b[39m,\n\u001b[0;32m    <a href='file:///c%3A/Users/Corey/Desktop/whole-foods-sale-scraper/env/lib/site-packages/selenium/webdriver/remote/webdriver.py?line=807'>808</a>\u001b[0m )\n\u001b[1;32m--> <a href='file:///c%3A/Users/Corey/Desktop/whole-foods-sale-scraper/env/lib/site-packages/selenium/webdriver/remote/webdriver.py?line=808'>809</a>\u001b[0m \u001b[39mreturn\u001b[39;00m \u001b[39mself\u001b[39;49m\u001b[39m.\u001b[39;49mfind_element(by\u001b[39m=\u001b[39;49mBy\u001b[39m.\u001b[39;49mCSS_SELECTOR, value\u001b[39m=\u001b[39;49mcss_selector)\n",
      "File \u001b[1;32mc:\\Users\\Corey\\Desktop\\whole-foods-sale-scraper\\env\\lib\\site-packages\\selenium\\webdriver\\remote\\webdriver.py:1248\u001b[0m, in \u001b[0;36mWebDriver.find_element\u001b[1;34m(self, by, value)\u001b[0m\n\u001b[0;32m   <a href='file:///c%3A/Users/Corey/Desktop/whole-foods-sale-scraper/env/lib/site-packages/selenium/webdriver/remote/webdriver.py?line=1244'>1245</a>\u001b[0m     by \u001b[39m=\u001b[39m By\u001b[39m.\u001b[39mCSS_SELECTOR\n\u001b[0;32m   <a href='file:///c%3A/Users/Corey/Desktop/whole-foods-sale-scraper/env/lib/site-packages/selenium/webdriver/remote/webdriver.py?line=1245'>1246</a>\u001b[0m     value \u001b[39m=\u001b[39m \u001b[39m'\u001b[39m\u001b[39m[name=\u001b[39m\u001b[39m\"\u001b[39m\u001b[39m%s\u001b[39;00m\u001b[39m\"\u001b[39m\u001b[39m]\u001b[39m\u001b[39m'\u001b[39m \u001b[39m%\u001b[39m value\n\u001b[1;32m-> <a href='file:///c%3A/Users/Corey/Desktop/whole-foods-sale-scraper/env/lib/site-packages/selenium/webdriver/remote/webdriver.py?line=1247'>1248</a>\u001b[0m \u001b[39mreturn\u001b[39;00m \u001b[39mself\u001b[39;49m\u001b[39m.\u001b[39;49mexecute(Command\u001b[39m.\u001b[39;49mFIND_ELEMENT, {\n\u001b[0;32m   <a href='file:///c%3A/Users/Corey/Desktop/whole-foods-sale-scraper/env/lib/site-packages/selenium/webdriver/remote/webdriver.py?line=1248'>1249</a>\u001b[0m     \u001b[39m'\u001b[39;49m\u001b[39musing\u001b[39;49m\u001b[39m'\u001b[39;49m: by,\n\u001b[0;32m   <a href='file:///c%3A/Users/Corey/Desktop/whole-foods-sale-scraper/env/lib/site-packages/selenium/webdriver/remote/webdriver.py?line=1249'>1250</a>\u001b[0m     \u001b[39m'\u001b[39;49m\u001b[39mvalue\u001b[39;49m\u001b[39m'\u001b[39;49m: value})[\u001b[39m'\u001b[39m\u001b[39mvalue\u001b[39m\u001b[39m'\u001b[39m]\n",
      "File \u001b[1;32mc:\\Users\\Corey\\Desktop\\whole-foods-sale-scraper\\env\\lib\\site-packages\\selenium\\webdriver\\remote\\webdriver.py:425\u001b[0m, in \u001b[0;36mWebDriver.execute\u001b[1;34m(self, driver_command, params)\u001b[0m\n\u001b[0;32m    <a href='file:///c%3A/Users/Corey/Desktop/whole-foods-sale-scraper/env/lib/site-packages/selenium/webdriver/remote/webdriver.py?line=422'>423</a>\u001b[0m response \u001b[39m=\u001b[39m \u001b[39mself\u001b[39m\u001b[39m.\u001b[39mcommand_executor\u001b[39m.\u001b[39mexecute(driver_command, params)\n\u001b[0;32m    <a href='file:///c%3A/Users/Corey/Desktop/whole-foods-sale-scraper/env/lib/site-packages/selenium/webdriver/remote/webdriver.py?line=423'>424</a>\u001b[0m \u001b[39mif\u001b[39;00m response:\n\u001b[1;32m--> <a href='file:///c%3A/Users/Corey/Desktop/whole-foods-sale-scraper/env/lib/site-packages/selenium/webdriver/remote/webdriver.py?line=424'>425</a>\u001b[0m     \u001b[39mself\u001b[39;49m\u001b[39m.\u001b[39;49merror_handler\u001b[39m.\u001b[39;49mcheck_response(response)\n\u001b[0;32m    <a href='file:///c%3A/Users/Corey/Desktop/whole-foods-sale-scraper/env/lib/site-packages/selenium/webdriver/remote/webdriver.py?line=425'>426</a>\u001b[0m     response[\u001b[39m'\u001b[39m\u001b[39mvalue\u001b[39m\u001b[39m'\u001b[39m] \u001b[39m=\u001b[39m \u001b[39mself\u001b[39m\u001b[39m.\u001b[39m_unwrap_value(\n\u001b[0;32m    <a href='file:///c%3A/Users/Corey/Desktop/whole-foods-sale-scraper/env/lib/site-packages/selenium/webdriver/remote/webdriver.py?line=426'>427</a>\u001b[0m         response\u001b[39m.\u001b[39mget(\u001b[39m'\u001b[39m\u001b[39mvalue\u001b[39m\u001b[39m'\u001b[39m, \u001b[39mNone\u001b[39;00m))\n\u001b[0;32m    <a href='file:///c%3A/Users/Corey/Desktop/whole-foods-sale-scraper/env/lib/site-packages/selenium/webdriver/remote/webdriver.py?line=427'>428</a>\u001b[0m     \u001b[39mreturn\u001b[39;00m response\n",
      "File \u001b[1;32mc:\\Users\\Corey\\Desktop\\whole-foods-sale-scraper\\env\\lib\\site-packages\\selenium\\webdriver\\remote\\errorhandler.py:247\u001b[0m, in \u001b[0;36mErrorHandler.check_response\u001b[1;34m(self, response)\u001b[0m\n\u001b[0;32m    <a href='file:///c%3A/Users/Corey/Desktop/whole-foods-sale-scraper/env/lib/site-packages/selenium/webdriver/remote/errorhandler.py?line=244'>245</a>\u001b[0m         alert_text \u001b[39m=\u001b[39m value[\u001b[39m'\u001b[39m\u001b[39malert\u001b[39m\u001b[39m'\u001b[39m]\u001b[39m.\u001b[39mget(\u001b[39m'\u001b[39m\u001b[39mtext\u001b[39m\u001b[39m'\u001b[39m)\n\u001b[0;32m    <a href='file:///c%3A/Users/Corey/Desktop/whole-foods-sale-scraper/env/lib/site-packages/selenium/webdriver/remote/errorhandler.py?line=245'>246</a>\u001b[0m     \u001b[39mraise\u001b[39;00m exception_class(message, screen, stacktrace, alert_text)  \u001b[39m# type: ignore[call-arg]  # mypy is not smart enough here\u001b[39;00m\n\u001b[1;32m--> <a href='file:///c%3A/Users/Corey/Desktop/whole-foods-sale-scraper/env/lib/site-packages/selenium/webdriver/remote/errorhandler.py?line=246'>247</a>\u001b[0m \u001b[39mraise\u001b[39;00m exception_class(message, screen, stacktrace)\n",
      "\u001b[1;31mNoSuchElementException\u001b[0m: Message: Unable to locate element: li.wfm-search-bar--list_item:nth-child(1)\nStacktrace:\nWebDriverError@chrome://remote/content/shared/webdriver/Errors.jsm:183:5\nNoSuchElementError@chrome://remote/content/shared/webdriver/Errors.jsm:395:5\nelement.find/</<@chrome://remote/content/marionette/element.js:300:16\n"
     ]
    }
   ],
   "source": [
    "zip_code = os.environ.get('ZIP')\n",
    "\n",
    "driver = webdriver.Firefox()\n",
    "driver.get(\"https://www.wholefoodsmarket.com/products/all-products?featured=on-sale\")\n",
    "assert \"Whole Foods\" in driver.title\n",
    "try :\n",
    "    store = driver.find_element(by=By.ID, value=\"pie-store-finder-modal-search-field\")\n",
    "    store.clear()\n",
    "    store.send_keys(zip_code)\n",
    "    store.send_keys(Keys.RETURN)\n",
    "    closest = driver.find_element(by=By.CSS_SELECTOR, value='li.wfm-search-bar--list_item:nth-child(1)')\n",
    "    closest.send_keys(Keys.RETURN)\n",
    "except:\n",
    "    \n",
    "driver.close()"
   ]
  },
  {
   "cell_type": "code",
   "execution_count": null,
   "metadata": {},
   "outputs": [],
   "source": []
  }
 ],
 "metadata": {
  "interpreter": {
   "hash": "eb136f87c71c434d9c90b95b653b200548de5ed26b91ca8cbe354f2f13471397"
  },
  "kernelspec": {
   "display_name": "projectname",
   "language": "python",
   "name": "projectname"
  },
  "language_info": {
   "codemirror_mode": {
    "name": "ipython",
    "version": 3
   },
   "file_extension": ".py",
   "mimetype": "text/x-python",
   "name": "python",
   "nbconvert_exporter": "python",
   "pygments_lexer": "ipython3",
   "version": "3.8.3"
  },
  "orig_nbformat": 4
 },
 "nbformat": 4,
 "nbformat_minor": 2
}

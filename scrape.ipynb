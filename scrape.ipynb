{
 "cells": [
  {
   "cell_type": "code",
   "execution_count": 28,
   "metadata": {},
   "outputs": [
    {
     "data": {
      "text/plain": [
       "True"
      ]
     },
     "execution_count": 28,
     "metadata": {},
     "output_type": "execute_result"
    }
   ],
   "source": [
    "from dotenv import load_dotenv\n",
    "from selenium import webdriver\n",
    "from selenium.webdriver.common.by import By\n",
    "from selenium.webdriver.common.keys import Keys\n",
    "from selenium.webdriver.support.ui import WebDriverWait\n",
    "from selenium.webdriver.support import expected_conditions as EC\n",
    "from selenium.common.exceptions import NoSuchElementException\n",
    "\n",
    "from bs4 import BeautifulSoup\n",
    "import pandas as pd\n",
    "load_dotenv()"
   ]
  },
  {
   "cell_type": "code",
   "execution_count": 25,
   "metadata": {},
   "outputs": [],
   "source": [
    "# grab the zip code we've saved as an environment variable\n",
    "zip_code = os.environ.get('ZIP')\n",
    "\n",
    "driver = webdriver.Firefox()\n",
    "# access Whole Foods' products that are on sale via selenium\n",
    "driver.get(\"https://www.wholefoodsmarket.com/products/all-products?featured=on-sale\")\n",
    "assert \"Whole Foods\" in driver.title\n",
    "\n",
    "# wait for the page to load\n",
    "wait = WebDriverWait(driver, 3)\n",
    "\n",
    "# try/except in case selenium opens us logged in for some reason\n",
    "try:\n",
    "    # we create a variable to grab the search field\n",
    "    store = driver.find_element(by=By.ID, value=\"pie-store-finder-modal-search-field\")\n",
    "    # ensure it's empty\n",
    "    store.clear()\n",
    "    # selenium adds our zip code into the text field\n",
    "    store.send_keys(zip_code)\n",
    "    store.send_keys(Keys.RETURN)\n",
    "    \n",
    "    # wait until a nearby Whole Foods shows up as a clickable option\n",
    "    closest = wait.until(EC.element_to_be_clickable((By.CSS_SELECTOR, 'li.wfm-search-bar--list_item:nth-child(1)')))\n",
    "    closest.click()\n",
    "except:\n",
    "    NoSuchElementException('Either you already have the lcoation or there\\'s an error')\n",
    "\n",
    "# the on sale products page does not show all of the products\n",
    "# in fact, there are so many deals on sale that I have no idea\n",
    "# what the exact amount is, so I limit the amount of extra\n",
    "# product pages that we load more to 5\n",
    "\n",
    "# we wait for the load more button to load since it doesn't initially\n",
    "load_more = wait.until(EC.element_to_be_clickable((By.CSS_SELECTOR, \"button.w-button:nth-child(5)\")))\n",
    "for _ in range(5):\n",
    "    # we click 5 times\n",
    "    load_more.click()"
   ]
  },
  {
   "cell_type": "code",
   "execution_count": null,
   "metadata": {},
   "outputs": [],
   "source": []
  }
 ],
 "metadata": {
  "interpreter": {
   "hash": "eb136f87c71c434d9c90b95b653b200548de5ed26b91ca8cbe354f2f13471397"
  },
  "kernelspec": {
   "display_name": "projectname",
   "language": "python",
   "name": "projectname"
  },
  "language_info": {
   "codemirror_mode": {
    "name": "ipython",
    "version": 3
   },
   "file_extension": ".py",
   "mimetype": "text/x-python",
   "name": "python",
   "nbconvert_exporter": "python",
   "pygments_lexer": "ipython3",
   "version": "3.8.3"
  },
  "orig_nbformat": 4
 },
 "nbformat": 4,
 "nbformat_minor": 2
}

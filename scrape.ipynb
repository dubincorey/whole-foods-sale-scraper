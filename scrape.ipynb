{
 "cells": [
  {
   "cell_type": "code",
   "execution_count": 14,
   "metadata": {},
   "outputs": [
    {
     "data": {
      "text/plain": [
       "True"
      ]
     },
     "execution_count": 14,
     "metadata": {},
     "output_type": "execute_result"
    }
   ],
   "source": [
    "from dotenv import load_dotenv\n",
    "from selenium import webdriver\n",
    "from selenium.webdriver.common.by import By\n",
    "from selenium.webdriver.common.keys import Keys\n",
    "from selenium.webdriver.support.ui import WebDriverWait\n",
    "from selenium.webdriver.support import expected_conditions as EC\n",
    "from selenium.common.exceptions import NoSuchElementException\n",
    "load_dotenv()"
   ]
  },
  {
   "cell_type": "code",
   "execution_count": 17,
   "metadata": {},
   "outputs": [
    {
     "ename": "NameError",
     "evalue": "name 'awdawdawd' is not defined",
     "output_type": "error",
     "traceback": [
      "\u001b[1;31m---------------------------------------------------------------------------\u001b[0m",
      "\u001b[1;31mNameError\u001b[0m                                 Traceback (most recent call last)",
      "\u001b[1;32mc:\\Users\\Corey\\Desktop\\whole-foods-sale-scraper\\scrape.ipynb Cell 2'\u001b[0m in \u001b[0;36m<cell line: 17>\u001b[1;34m()\u001b[0m\n\u001b[0;32m     <a href='vscode-notebook-cell:/c%3A/Users/Corey/Desktop/whole-foods-sale-scraper/scrape.ipynb#ch0000001?line=14'>15</a>\u001b[0m \u001b[39mexcept\u001b[39;00m:\n\u001b[0;32m     <a href='vscode-notebook-cell:/c%3A/Users/Corey/Desktop/whole-foods-sale-scraper/scrape.ipynb#ch0000001?line=15'>16</a>\u001b[0m     NoSuchElementException(\u001b[39m'\u001b[39m\u001b[39mEither you already have the lcoation or there\u001b[39m\u001b[39m\\'\u001b[39;00m\u001b[39ms an error\u001b[39m\u001b[39m'\u001b[39m)\n\u001b[1;32m---> <a href='vscode-notebook-cell:/c%3A/Users/Corey/Desktop/whole-foods-sale-scraper/scrape.ipynb#ch0000001?line=16'>17</a>\u001b[0m awdawdawd\n\u001b[0;32m     <a href='vscode-notebook-cell:/c%3A/Users/Corey/Desktop/whole-foods-sale-scraper/scrape.ipynb#ch0000001?line=17'>18</a>\u001b[0m driver\u001b[39m.\u001b[39mclose()\n",
      "\u001b[1;31mNameError\u001b[0m: name 'awdawdawd' is not defined"
     ]
    }
   ],
   "source": [
    "zip_code = os.environ.get('ZIP')\n",
    "\n",
    "driver = webdriver.Firefox()\n",
    "driver.get(\"https://www.wholefoodsmarket.com/products/all-products?featured=on-sale\")\n",
    "assert \"Whole Foods\" in driver.title\n",
    "try:\n",
    "    store = driver.find_element(by=By.ID, value=\"pie-store-finder-modal-search-field\")\n",
    "    store.clear()\n",
    "    store.send_keys(zip_code)\n",
    "    store.send_keys(Keys.RETURN)\n",
    "    wait = WebDriverWait(driver, 10)\n",
    "    closest = wait.until(EC.element_to_be_clickable((By.CSS_SELECTOR, 'li.wfm-search-bar--list_item:nth-child(1)')))\n",
    "    closest.click()\n",
    "except:\n",
    "    NoSuchElementException('Either you already have the lcoation or there\\'s an error')\n",
    "awdawdawd\n",
    "driver.close()"
   ]
  },
  {
   "cell_type": "code",
   "execution_count": null,
   "metadata": {},
   "outputs": [],
   "source": []
  }
 ],
 "metadata": {
  "interpreter": {
   "hash": "eb136f87c71c434d9c90b95b653b200548de5ed26b91ca8cbe354f2f13471397"
  },
  "kernelspec": {
   "display_name": "projectname",
   "language": "python",
   "name": "projectname"
  },
  "language_info": {
   "codemirror_mode": {
    "name": "ipython",
    "version": 3
   },
   "file_extension": ".py",
   "mimetype": "text/x-python",
   "name": "python",
   "nbconvert_exporter": "python",
   "pygments_lexer": "ipython3",
   "version": "3.8.3"
  },
  "orig_nbformat": 4
 },
 "nbformat": 4,
 "nbformat_minor": 2
}
